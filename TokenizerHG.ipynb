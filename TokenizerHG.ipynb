{
 "cells": [
  {
   "cell_type": "code",
   "execution_count": 87,
   "id": "03c8775d-fa7d-4a0b-9d1e-45ec737faead",
   "metadata": {},
   "outputs": [
    {
     "data": {
      "text/plain": [
       "Dataset({\n",
       "    features: ['wrong', 'right'],\n",
       "    num_rows: 201308\n",
       "})"
      ]
     },
     "execution_count": 87,
     "metadata": {},
     "output_type": "execute_result"
    }
   ],
   "source": [
    "import pandas as pd\n",
    "import datasets\n",
    "from datasets import load_dataset\n",
    "\n",
    "# Read the JSON file into a DataFrame\n",
    "# train = pd.read_json('train.json')\n",
    "# test = pd.read_json('test.json')\n",
    "\n",
    "dataset = load_dataset(\"mateiaassAI/MEID\")\n",
    "\n",
    "# train['input'] = train['input'].str.replace('grammar: ', '')\n",
    "\n",
    "dataset = dataset[\"train\"]\n",
    "dataset"
   ]
  },
  {
   "cell_type": "code",
   "execution_count": 88,
   "id": "40b3ade4-79c4-4f6e-813c-79dd840bf991",
   "metadata": {},
   "outputs": [
    {
     "name": "stdout",
     "output_type": "stream",
     "text": [
      "                                                   0\n",
      "0                 DECIZIE nr. 8 din 18 ianuarie 2011\n",
      "1  referitoare la excepția de neconstituționalita...\n",
      "2       MONITORUL OFICIAL nr. 186 din 17 martie 2011\n",
      "3  Cu participarea reprezentantului Ministerului ...\n",
      "4  Pe rol se află soluționarea excepției de necon...\n",
      "201308\n"
     ]
    }
   ],
   "source": [
    "# dataset = pd.concat([train, test], ignore_index=True)\n",
    "dataset = dataset['right']\n",
    "df = pd.DataFrame(dataset)\n",
    "# dataset = dataset.drop('wrong', axis=1)\n",
    "\n",
    "print(df[:5])\n",
    "print(len(df))"
   ]
  },
  {
   "cell_type": "code",
   "execution_count": 89,
   "id": "bb5fb6c3-90bb-429b-87c2-720935ac2263",
   "metadata": {},
   "outputs": [
    {
     "name": "stdout",
     "output_type": "stream",
     "text": [
      "Num Examples:  201308\n",
      "Null Values\n",
      " 0    0\n",
      "dtype: int64\n",
      "Num Examples:  201308\n"
     ]
    }
   ],
   "source": [
    "# Show the count of rows\n",
    "print('Num Examples: ',len(df))\n",
    "print('Null Values\\n', df.isna().sum())\n",
    "# Drop rows with Null values \n",
    "df.dropna(inplace=True)\n",
    "print('Num Examples: ',len(df))"
   ]
  },
  {
   "cell_type": "code",
   "execution_count": 112,
   "id": "ed92d43c-0893-4f8d-9f8e-f5bd73bf7d3b",
   "metadata": {},
   "outputs": [
    {
     "data": {
      "text/plain": [
       "['./tokenizer\\\\vocab.json', './tokenizer\\\\merges.txt']"
      ]
     },
     "execution_count": 112,
     "metadata": {},
     "output_type": "execute_result"
    }
   ],
   "source": [
    "from tokenizers import ByteLevelBPETokenizer\n",
    "\n",
    "tokenizer = ByteLevelBPETokenizer(lowercase=True)\n",
    "tokenizer.train_from_iterator(dataset, vocab_size=100000, min_frequency=6, show_progress=True,special_tokens=[\n",
    "    \"<s>\",\n",
    "    \"<pad>\",\n",
    "    \"</s>\",\n",
    "    \"<unk>\",\n",
    "    \"<mask>\",\n",
    "])\n",
    "\n",
    "tokenizer.save_model(\"./tokenizer\")"
   ]
  },
  {
   "cell_type": "code",
   "execution_count": 113,
   "id": "4ae90d13-9aa7-484c-b799-ff31f31a1588",
   "metadata": {},
   "outputs": [
    {
     "name": "stdout",
     "output_type": "stream",
     "text": [
      "0 2\n"
     ]
    }
   ],
   "source": [
    "sos_token_id = tokenizer.token_to_id(\"<s>\")\n",
    "eos_token_id = tokenizer.token_to_id(\"</s>\")\n",
    "\n",
    "print(sos_token_id, eos_token_id)"
   ]
  },
  {
   "cell_type": "code",
   "execution_count": 110,
   "id": "fae2b1a2-56f9-413c-a3a8-992d6bf3e16a",
   "metadata": {},
   "outputs": [
    {
     "data": {
      "text/plain": [
       "Tokenizer(vocabulary_size=51374, model=ByteLevelBPE, add_prefix_space=False, lowercase=False, dropout=None, unicode_normalizer=None, continuing_subword_prefix=None, end_of_word_suffix=None, trim_offsets=False)"
      ]
     },
     "execution_count": 110,
     "metadata": {},
     "output_type": "execute_result"
    }
   ],
   "source": [
    "import os\n",
    "tokenizer_folder = './tokenizer'\n",
    "\n",
    "tokenizer = ByteLevelBPETokenizer(\n",
    "    os.path.abspath(os.path.join(tokenizer_folder,'vocab.json')),\n",
    "    os.path.abspath(os.path.join(tokenizer_folder,'merges.txt'))\n",
    ")\n",
    "\n",
    "tokenizer"
   ]
  },
  {
   "cell_type": "code",
   "execution_count": null,
   "id": "352d0df1-aede-409e-afaf-a37021dc111b",
   "metadata": {},
   "outputs": [],
   "source": [
    "# from tokenizers.processors import BertProcessing\n",
    "\n",
    "# # Prepare the tokenizer\n",
    "# tokenizer._tokenizer.post_processor = BertProcessing(\n",
    "#     (\"\", tokenizer.token_to_id(\"\")),\n",
    "#     (\"\", tokenizer.token_to_id(\"\")),\n",
    "# )\n",
    "# tokenizer.enable_truncation(max_length=512)"
   ]
  },
  {
   "cell_type": "code",
   "execution_count": 111,
   "id": "75119e06-4cdd-407f-a0e4-f6f569d0400d",
   "metadata": {},
   "outputs": [
    {
     "data": {
      "text/plain": [
       "[32, 87, 34]"
      ]
     },
     "execution_count": 111,
     "metadata": {},
     "output_type": "execute_result"
    }
   ],
   "source": [
    "encoding = tokenizer.encode(\"<s>\")\n",
    "encoding.ids"
   ]
  },
  {
   "cell_type": "code",
   "execution_count": 33,
   "id": "9aa4ada8-3492-4b8b-aeda-5c92c340d7d5",
   "metadata": {},
   "outputs": [
    {
     "data": {
      "text/plain": [
       "['U',\n",
       " 'n',\n",
       " 'ĠbÄĥrbat',\n",
       " 'Ġcu',\n",
       " 'Ġo',\n",
       " 'ĠcascÄĥ',\n",
       " 'Ġde',\n",
       " 'ĠprotecÈĽie',\n",
       " 'Ġdan',\n",
       " 'seazÄĥ',\n",
       " '.']"
      ]
     },
     "execution_count": 33,
     "metadata": {},
     "output_type": "execute_result"
    }
   ],
   "source": [
    "encoding.tokens"
   ]
  },
  {
   "cell_type": "code",
   "execution_count": 34,
   "id": "5546e1c7-0c55-4b80-8fb6-71d0ce38610d",
   "metadata": {},
   "outputs": [
    {
     "data": {
      "text/plain": [
       "[57, 82, 71869, 318, 325, 38262, 271, 1883, 8854, 5992, 18]"
      ]
     },
     "execution_count": 34,
     "metadata": {},
     "output_type": "execute_result"
    }
   ],
   "source": [
    "encoding.ids"
   ]
  },
  {
   "cell_type": "code",
   "execution_count": 35,
   "id": "121e7019-a03f-4971-ac6c-ded9714753df",
   "metadata": {},
   "outputs": [
    {
     "data": {
      "text/plain": [
       "[39, 73, 6314, 469, 52273, 324, 1781, 5]"
      ]
     },
     "execution_count": 35,
     "metadata": {},
     "output_type": "execute_result"
    }
   ],
   "source": [
    "tokenizer.encode('Ce bine ma simt la mare!').ids"
   ]
  }
 ],
 "metadata": {
  "kernelspec": {
   "display_name": "Python 3 (ipykernel)",
   "language": "python",
   "name": "python3"
  },
  "language_info": {
   "codemirror_mode": {
    "name": "ipython",
    "version": 3
   },
   "file_extension": ".py",
   "mimetype": "text/x-python",
   "name": "python",
   "nbconvert_exporter": "python",
   "pygments_lexer": "ipython3",
   "version": "3.12.2"
  }
 },
 "nbformat": 4,
 "nbformat_minor": 5
}
