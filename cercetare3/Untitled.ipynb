{
 "cells": [
  {
   "cell_type": "code",
   "execution_count": 28,
   "id": "f2306855-5247-4112-b677-6cf275ac7ab4",
   "metadata": {},
   "outputs": [],
   "source": [
    "from bs4 import BeautifulSoup\n",
    "import requests\n",
    "from datasets import load_dataset\n",
    "import random\n",
    "import rowordnet\n",
    "import pandas as pd\n",
    "import numpy as np\n",
    "import phunspell\n",
    "import json\n",
    "import datetime\n",
    "\n",
    "def morphologic_dex(word):\n",
    "  if len(word) <= 3:\n",
    "    return word\n",
    "\n",
    "  url = f'https://dexonline.ro/definitie/{word}/paradigma'\n",
    "  response = requests.get(url)\n",
    "\n",
    "  if response.status_code == 200:\n",
    "    action = random.randint(1, 100) / 100\n",
    "    soup = BeautifulSoup(response.text, 'html.parser')\n",
    "    if action < 0.5:\n",
    "        para_lexemes = soup.find_all('div', class_='paraLexeme')\n",
    "    \n",
    "        for para_lexeme in para_lexemes:\n",
    "          lexeme_name = para_lexeme.find('span', class_='lexemeName').text\n",
    "          if lexeme_name == word:\n",
    "            table = para_lexeme.find('table', class_='lexeme')\n",
    "    \n",
    "            if table:\n",
    "              unique_cells = set()\n",
    "              form_cells = table.find_all('td', class_='form')\n",
    "    \n",
    "              for cell in form_cells:\n",
    "                if not cell.find(class_='elisionHidden') and not cell.find(class_='notRecommendedHidden'):\n",
    "                  text = cell.get_text(strip=True)\n",
    "                  if '—' not in text:\n",
    "                    text = text.replace(')', ' ').replace('(', '')\n",
    "                    unique_cells.add(text)\n",
    "    \n",
    "              if unique_cells:\n",
    "                random_word = random.choice(list(unique_cells))\n",
    "                return random_word\n",
    "                # return unique_cells\n",
    "    else:\n",
    "        spans_synonyms = soup.find_all('span', class_='badge-relation badge-relation-1')\n",
    "        unique_cells = set()\n",
    "\n",
    "        for spans in spans_synonyms:\n",
    "            text = spans.text.replace('\\'', ' ').replace(' ', '')\n",
    "            unique_cells.add(text)\n",
    "\n",
    "        # print(\"wow\")\n",
    "        return random.choice(list(unique_cells))\n",
    "        # return unique_cells\n",
    "  return word"
   ]
  },
  {
   "cell_type": "code",
   "execution_count": 50,
   "id": "6303d14c-92a0-49fb-8874-b1679bd186e7",
   "metadata": {},
   "outputs": [
    {
     "data": {
      "text/plain": [
       "'a alerga'"
      ]
     },
     "execution_count": 50,
     "metadata": {},
     "output_type": "execute_result"
    }
   ],
   "source": [
    "morphologic_dex(\"a alerga\")"
   ]
  }
 ],
 "metadata": {
  "kernelspec": {
   "display_name": "Python 3 (ipykernel)",
   "language": "python",
   "name": "python3"
  },
  "language_info": {
   "codemirror_mode": {
    "name": "ipython",
    "version": 3
   },
   "file_extension": ".py",
   "mimetype": "text/x-python",
   "name": "python",
   "nbconvert_exporter": "python",
   "pygments_lexer": "ipython3",
   "version": "3.11.0"
  }
 },
 "nbformat": 4,
 "nbformat_minor": 5
}
