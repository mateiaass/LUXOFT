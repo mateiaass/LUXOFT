{
 "cells": [
  {
   "cell_type": "code",
   "execution_count": 2,
   "id": "d9d937e6-573f-4d22-bf5b-8e33cadbd96e",
   "metadata": {},
   "outputs": [
    {
     "data": {
      "application/vnd.jupyter.widget-view+json": {
       "model_id": "53403e9f04f547d9a6213773a3885d03",
       "version_major": 2,
       "version_minor": 0
      },
      "text/plain": [
       "Downloading readme:   0%|          | 0.00/25.0 [00:00<?, ?B/s]"
      ]
     },
     "metadata": {},
     "output_type": "display_data"
    },
    {
     "name": "stderr",
     "output_type": "stream",
     "text": [
      "Downloading data: 100%|███████████████████████████████████████████████████████████| 1.00M/1.00M [00:00<00:00, 1.78MB/s]\n",
      "Downloading data: 100%|█████████████████████████████████████████████████████████████| 975k/975k [00:00<00:00, 1.89MB/s]\n",
      "Downloading data: 100%|█████████████████████████████████████████████████████████████| 293k/293k [00:00<00:00, 1.45MB/s]\n",
      "Downloading data: 100%|█████████████████████████████████████████████████████████████| 230k/230k [00:00<00:00, 1.32MB/s]\n",
      "Downloading data: 100%|██████████████████████████████████████████████████████████████| 211k/211k [00:00<00:00, 826kB/s]\n",
      "Downloading data: 100%|████████████████████████████████████████████████████████████| 54.5k/54.5k [00:00<00:00, 358kB/s]\n",
      "Downloading data: 100%|████████████████████████████████████████████████████████████| 97.2k/97.2k [00:00<00:00, 585kB/s]\n",
      "Downloading data: 100%|████████████████████████████████████████████████████████████| 50.4k/50.4k [00:00<00:00, 328kB/s]\n",
      "Downloading data: 100%|████████████████████████████████████████████████████████████| 74.3k/74.3k [00:00<00:00, 435kB/s]\n",
      "Downloading data: 100%|████████████████████████████████████████████████████████████| 92.5k/92.5k [00:00<00:00, 582kB/s]\n",
      "Downloading data: 100%|████████████████████████████████████████████████████████████| 63.1k/63.1k [00:00<00:00, 356kB/s]\n",
      "Downloading data: 100%|█████████████████████████████████████████████████████████████| 587k/587k [00:00<00:00, 1.23MB/s]\n",
      "Downloading data: 100%|███████████████████████████████████████████████████████████| 1.81M/1.81M [00:00<00:00, 2.90MB/s]\n"
     ]
    },
    {
     "data": {
      "application/vnd.jupyter.widget-view+json": {
       "model_id": "6a2196c74376410282f31605ceb25213",
       "version_major": 2,
       "version_minor": 0
      },
      "text/plain": [
       "Generating train split: 0 examples [00:00, ? examples/s]"
      ]
     },
     "metadata": {},
     "output_type": "display_data"
    }
   ],
   "source": [
    "from datasets import load_dataset\n",
    "\n",
    "dataset = load_dataset(\"mateiaassAI/MarcelParsed\")"
   ]
  }
 ],
 "metadata": {
  "kernelspec": {
   "display_name": "Python 3 (ipykernel)",
   "language": "python",
   "name": "python3"
  },
  "language_info": {
   "codemirror_mode": {
    "name": "ipython",
    "version": 3
   },
   "file_extension": ".py",
   "mimetype": "text/x-python",
   "name": "python",
   "nbconvert_exporter": "python",
   "pygments_lexer": "ipython3",
   "version": "3.12.2"
  }
 },
 "nbformat": 4,
 "nbformat_minor": 5
}
