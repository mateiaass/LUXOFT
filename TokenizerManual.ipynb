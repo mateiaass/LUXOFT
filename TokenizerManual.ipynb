{
 "cells": [
  {
   "cell_type": "code",
   "execution_count": 1,
   "id": "f16deb7c-0e84-4987-b7b2-e8844795d3f7",
   "metadata": {},
   "outputs": [],
   "source": [
    "import json\n",
    "\n",
    "def gec_generator_text():\n",
    "    with open('train.json', 'r', encoding='utf-8') as f:\n",
    "        for i, line in enumerate(f):\n",
    "            parsed_data = json.loads(line)\n",
    "            \n",
    "            input_text = parsed_data[\"input\"]\n",
    "            target_text = parsed_data[\"target\"]\n",
    "            \n",
    "            index_of_grammar = input_text.index(\"grammar:\") + len(\"grammar:\")\n",
    "            text_after_grammar = input_text[index_of_grammar:].strip()\n",
    "            \n",
    "            yield(text_after_grammar, target_text);"
   ]
  },
  {
   "cell_type": "code",
   "execution_count": 3,
   "id": "073280d9-5264-4bd1-b83d-1dfcb33a0d52",
   "metadata": {},
   "outputs": [],
   "source": [
    "# !pip install tokenizers"
   ]
  },
  {
   "cell_type": "code",
   "execution_count": 4,
   "id": "de330cd4-777d-49d9-92fa-c44635d8974a",
   "metadata": {},
   "outputs": [],
   "source": [
    "corpus = [\n",
    "    \"This is the Hugging Face Course.\",\n",
    "    \"This chapter is about tokenization.\",\n",
    "    \"This section shows several tokenizer algorithms.\",\n",
    "    \"Hopefully, you will be able to understand how they are trained and generate tokens.\",\n",
    "]"
   ]
  },
  {
   "cell_type": "code",
   "execution_count": 6,
   "id": "dcec0566-437e-4bd3-81ae-eb832f48d15f",
   "metadata": {},
   "outputs": [],
   "source": [
    "from tokenizers import pre_tokenizers\n",
    "\n",
    "pre_tokenizer = pre_tokenizers.WhitespaceSplit()"
   ]
  },
  {
   "cell_type": "code",
   "execution_count": 8,
   "id": "e27e825f-4911-4e96-9e06-7cf13d291b94",
   "metadata": {},
   "outputs": [
    {
     "data": {
      "text/plain": [
       "[('Am', (0, 2)),\n",
       " ('fost', (3, 7)),\n",
       " ('la', (8, 10)),\n",
       " ('mare', (11, 15)),\n",
       " ('mare', (16, 20)),\n",
       " ('departare', (21, 30)),\n",
       " ('de', (31, 33)),\n",
       " ('casa.', (34, 39)),\n",
       " ('Imi', (40, 43)),\n",
       " ('place', (44, 49)),\n",
       " ('sa-mi', (50, 55)),\n",
       " ('cumpar', (56, 62)),\n",
       " ('jucarii.', (63, 71)),\n",
       " ('Hhah', (72, 76)),\n",
       " ('!', (77, 78))]"
      ]
     },
     "execution_count": 8,
     "metadata": {},
     "output_type": "execute_result"
    }
   ],
   "source": [
    "pre_tokenizer.pre_tokenize_str(\"Am fost la mare mare departare de casa. Imi place sa-mi cumpar jucarii. Hhah !\")"
   ]
  },
  {
   "cell_type": "code",
   "execution_count": 10,
   "id": "1d46c69d-7aab-4fef-97d0-885af1d1f788",
   "metadata": {},
   "outputs": [
    {
     "name": "stdout",
     "output_type": "stream",
     "text": [
      "defaultdict(<class 'int'>, {'This': 3, 'is': 2, 'the': 1, 'Hugging': 1, 'Face': 1, 'Course.': 1, 'chapter': 1, 'about': 1, 'tokenization.': 1, 'section': 1, 'shows': 1, 'several': 1, 'tokenizer': 1, 'algorithms.': 1, 'Hopefully,': 1, 'you': 1, 'will': 1, 'be': 1, 'able': 1, 'to': 1, 'understand': 1, 'how': 1, 'they': 1, 'are': 1, 'trained': 1, 'and': 1, 'generate': 1, 'tokens.': 1})\n"
     ]
    }
   ],
   "source": [
    "from collections import defaultdict\n",
    "\n",
    "word_freqs = defaultdict(int)\n",
    "\n",
    "for text in corpus:\n",
    "    words_with_offsets = pre_tokenizer.pre_tokenize_str(text)\n",
    "    new_words = [word for word, offset in words_with_offsets]\n",
    "    for word in new_words:\n",
    "        word_freqs[word] += 1\n",
    "\n",
    "print(word_freqs)"
   ]
  },
  {
   "cell_type": "code",
   "execution_count": 11,
   "id": "91ae844d-b3c8-45ca-8ef9-35e78efed06d",
   "metadata": {},
   "outputs": [
    {
     "name": "stdout",
     "output_type": "stream",
     "text": [
      "[',', '.', 'C', 'F', 'H', 'T', 'a', 'b', 'c', 'd', 'e', 'f', 'g', 'h', 'i', 'k', 'l', 'm', 'n', 'o', 'p', 'r', 's', 't', 'u', 'v', 'w', 'y', 'z']\n"
     ]
    }
   ],
   "source": [
    "alphabet = []\n",
    "\n",
    "for word in word_freqs.keys():\n",
    "    for letter in word:\n",
    "        if letter not in alphabet:\n",
    "            alphabet.append(letter)\n",
    "alphabet.sort()\n",
    "\n",
    "print(alphabet)"
   ]
  },
  {
   "cell_type": "code",
   "execution_count": 20,
   "id": "e25145d2-a349-45c1-902c-399bf528f31c",
   "metadata": {},
   "outputs": [
    {
     "data": {
      "text/plain": [
       "{'This': ['T', 'h', 'i', 's'],\n",
       " 'is': ['i', 's'],\n",
       " 'the': ['t', 'h', 'e'],\n",
       " 'Hugging': ['H', 'u', 'g', 'g', 'i', 'n', 'g'],\n",
       " 'Face': ['F', 'a', 'c', 'e'],\n",
       " 'Course.': ['C', 'o', 'u', 'r', 's', 'e', '.'],\n",
       " 'chapter': ['c', 'h', 'a', 'p', 't', 'e', 'r'],\n",
       " 'about': ['a', 'b', 'o', 'u', 't'],\n",
       " 'tokenization.': ['t',\n",
       "  'o',\n",
       "  'k',\n",
       "  'e',\n",
       "  'n',\n",
       "  'i',\n",
       "  'z',\n",
       "  'a',\n",
       "  't',\n",
       "  'i',\n",
       "  'o',\n",
       "  'n',\n",
       "  '.'],\n",
       " 'section': ['s', 'e', 'c', 't', 'i', 'o', 'n'],\n",
       " 'shows': ['s', 'h', 'o', 'w', 's'],\n",
       " 'several': ['s', 'e', 'v', 'e', 'r', 'a', 'l'],\n",
       " 'tokenizer': ['t', 'o', 'k', 'e', 'n', 'i', 'z', 'e', 'r'],\n",
       " 'algorithms.': ['a', 'l', 'g', 'o', 'r', 'i', 't', 'h', 'm', 's', '.'],\n",
       " 'Hopefully,': ['H', 'o', 'p', 'e', 'f', 'u', 'l', 'l', 'y', ','],\n",
       " 'you': ['y', 'o', 'u'],\n",
       " 'will': ['w', 'i', 'l', 'l'],\n",
       " 'be': ['b', 'e'],\n",
       " 'able': ['a', 'b', 'l', 'e'],\n",
       " 'to': ['t', 'o'],\n",
       " 'understand': ['u', 'n', 'd', 'e', 'r', 's', 't', 'a', 'n', 'd'],\n",
       " 'how': ['h', 'o', 'w'],\n",
       " 'they': ['t', 'h', 'e', 'y'],\n",
       " 'are': ['a', 'r', 'e'],\n",
       " 'trained': ['t', 'r', 'a', 'i', 'n', 'e', 'd'],\n",
       " 'and': ['a', 'n', 'd'],\n",
       " 'generate': ['g', 'e', 'n', 'e', 'r', 'a', 't', 'e'],\n",
       " 'tokens.': ['t', 'o', 'k', 'e', 'n', 's', '.']}"
      ]
     },
     "execution_count": 20,
     "metadata": {},
     "output_type": "execute_result"
    }
   ],
   "source": [
    "vocab = [\"<|endoftext|>\"] + alphabet.copy()\n",
    "splits = {word: [c for c in word] for word in word_freqs.keys()}\n",
    "splits"
   ]
  },
  {
   "cell_type": "code",
   "execution_count": 21,
   "id": "43f2e856-caa2-4817-bd87-669a54c85507",
   "metadata": {},
   "outputs": [],
   "source": [
    "def compute_pair_freqs(splits):\n",
    "    pair_freqs = defaultdict(int)\n",
    "    for word, freq in word_freqs.items():\n",
    "        split = splits[word]\n",
    "        if len(split) == 1:\n",
    "            continue\n",
    "        for i in range(len(split) - 1):\n",
    "            pair = (split[i], split[i + 1])\n",
    "            pair_freqs[pair] += freq\n",
    "    return pair_freqs"
   ]
  },
  {
   "cell_type": "code",
   "execution_count": 22,
   "id": "5a4d2f80-1ee9-492c-aaef-050a14bad72a",
   "metadata": {},
   "outputs": [
    {
     "name": "stdout",
     "output_type": "stream",
     "text": [
      "('T', 'h'): 3\n",
      "('h', 'i'): 3\n",
      "('i', 's'): 5\n",
      "('t', 'h'): 3\n",
      "('h', 'e'): 2\n",
      "('H', 'u'): 1\n"
     ]
    }
   ],
   "source": [
    "pair_freqs = compute_pair_freqs(splits)\n",
    "\n",
    "for i, key in enumerate(pair_freqs.keys()):\n",
    "    print(f\"{key}: {pair_freqs[key]}\")\n",
    "    if i >= 5:\n",
    "        break"
   ]
  },
  {
   "cell_type": "code",
   "execution_count": 23,
   "id": "248fa058-ac54-4e76-baa8-fb52e151982e",
   "metadata": {},
   "outputs": [
    {
     "name": "stdout",
     "output_type": "stream",
     "text": [
      "('i', 's') 5\n"
     ]
    }
   ],
   "source": [
    "best_pair = \"\"\n",
    "max_freq = None\n",
    "\n",
    "for pair, freq in pair_freqs.items():\n",
    "    if max_freq is None or max_freq < freq:\n",
    "        best_pair = pair\n",
    "        max_freq = freq\n",
    "\n",
    "print(best_pair, max_freq)"
   ]
  },
  {
   "cell_type": "code",
   "execution_count": 24,
   "id": "69fe4bd6-6c57-462c-88dc-55782938e4eb",
   "metadata": {},
   "outputs": [],
   "source": [
    "merges = {(\"i\", \"s\"): \"is\"}\n",
    "vocab.append(\"is\")"
   ]
  },
  {
   "cell_type": "code",
   "execution_count": 25,
   "id": "2cd8ba58-928c-4b63-9b2f-316b720d6d8a",
   "metadata": {},
   "outputs": [],
   "source": [
    "def merge_pair(a, b, splits):\n",
    "    for word in word_freqs:\n",
    "        split = splits[word]\n",
    "        if len(split) == 1:\n",
    "            continue\n",
    "\n",
    "        i = 0\n",
    "        while i < len(split) - 1:\n",
    "            if split[i] == a and split[i + 1] == b:\n",
    "                split = split[:i] + [a + b] + split[i + 2 :]\n",
    "            else:\n",
    "                i += 1\n",
    "        splits[word] = split\n",
    "    return splits"
   ]
  },
  {
   "cell_type": "code",
   "execution_count": 26,
   "id": "87a9007e-077b-4307-96a4-7d733abe646e",
   "metadata": {},
   "outputs": [
    {
     "name": "stdout",
     "output_type": "stream",
     "text": [
      "['is']\n"
     ]
    }
   ],
   "source": [
    "splits = merge_pair(\"i\", \"s\", splits)\n",
    "print(splits[\"is\"])"
   ]
  },
  {
   "cell_type": "code",
   "execution_count": 27,
   "id": "e1ea3abe-69f7-4896-a7af-8bcd6a48c6a9",
   "metadata": {},
   "outputs": [],
   "source": [
    "vocab_size = 50\n",
    "\n",
    "while len(vocab) < vocab_size:\n",
    "    pair_freqs = compute_pair_freqs(splits)\n",
    "    best_pair = \"\"\n",
    "    max_freq = None\n",
    "    for pair, freq in pair_freqs.items():\n",
    "        if max_freq is None or max_freq < freq:\n",
    "            best_pair = pair\n",
    "            max_freq = freq\n",
    "    splits = merge_pair(*best_pair, splits)\n",
    "    merges[best_pair] = best_pair[0] + best_pair[1]\n",
    "    vocab.append(best_pair[0] + best_pair[1])"
   ]
  },
  {
   "cell_type": "code",
   "execution_count": 28,
   "id": "dfd844bd-2138-41a2-9c06-14fdcbccba10",
   "metadata": {},
   "outputs": [
    {
     "name": "stdout",
     "output_type": "stream",
     "text": [
      "{('i', 's'): 'is', ('e', 'r'): 'er', ('t', 'o'): 'to', ('e', 'n'): 'en', ('T', 'h'): 'Th', ('Th', 'is'): 'This', ('t', 'h'): 'th', ('o', 'u'): 'ou', ('s', 'e'): 'se', ('to', 'k'): 'tok', ('tok', 'en'): 'token', ('n', 'd'): 'nd', ('th', 'e'): 'the', ('i', 'n'): 'in', ('a', 'b'): 'ab', ('token', 'i'): 'tokeni', ('tokeni', 'z'): 'tokeniz', ('a', 't'): 'at', ('i', 'o'): 'io', ('io', 'n'): 'ion'}\n"
     ]
    }
   ],
   "source": [
    "print(merges)"
   ]
  },
  {
   "cell_type": "code",
   "execution_count": 29,
   "id": "46edee84-5ab0-4a20-94e9-94cb27a4fbbc",
   "metadata": {},
   "outputs": [
    {
     "name": "stdout",
     "output_type": "stream",
     "text": [
      "['<|endoftext|>', ',', '.', 'C', 'F', 'H', 'T', 'a', 'b', 'c', 'd', 'e', 'f', 'g', 'h', 'i', 'k', 'l', 'm', 'n', 'o', 'p', 'r', 's', 't', 'u', 'v', 'w', 'y', 'z', 'is', 'er', 'to', 'en', 'Th', 'This', 'th', 'ou', 'se', 'tok', 'token', 'nd', 'the', 'in', 'ab', 'tokeni', 'tokeniz', 'at', 'io', 'ion']\n"
     ]
    }
   ],
   "source": [
    "print(vocab)"
   ]
  },
  {
   "cell_type": "code",
   "execution_count": 30,
   "id": "80d9ec23-8553-449d-b5c9-696a09487f86",
   "metadata": {},
   "outputs": [],
   "source": [
    "def tokenize(text):\n",
    "    pre_tokenize_result = pre_tokenizer.pre_tokenize_str(text)\n",
    "    pre_tokenized_text = [word for word, offset in pre_tokenize_result]\n",
    "    splits = [[l for l in word] for word in pre_tokenized_text]\n",
    "    for pair, merge in merges.items():\n",
    "        for idx, split in enumerate(splits):\n",
    "            i = 0\n",
    "            while i < len(split) - 1:\n",
    "                if split[i] == pair[0] and split[i + 1] == pair[1]:\n",
    "                    split = split[:i] + [merge] + split[i + 2 :]\n",
    "                else:\n",
    "                    i += 1\n",
    "            splits[idx] = split\n",
    "\n",
    "    return sum(splits, [])"
   ]
  },
  {
   "cell_type": "code",
   "execution_count": 31,
   "id": "139f7fee-60af-4cd1-b7c9-41e0a4b27f79",
   "metadata": {},
   "outputs": [
    {
     "data": {
      "text/plain": [
       "['This', 'is', 'n', 'o', 't', 'a', 'token', '.']"
      ]
     },
     "execution_count": 31,
     "metadata": {},
     "output_type": "execute_result"
    }
   ],
   "source": [
    "tokenize(\"This is not a token.\")"
   ]
  }
 ],
 "metadata": {
  "kernelspec": {
   "display_name": "Python 3 (ipykernel)",
   "language": "python",
   "name": "python3"
  },
  "language_info": {
   "codemirror_mode": {
    "name": "ipython",
    "version": 3
   },
   "file_extension": ".py",
   "mimetype": "text/x-python",
   "name": "python",
   "nbconvert_exporter": "python",
   "pygments_lexer": "ipython3",
   "version": "3.12.2"
  }
 },
 "nbformat": 4,
 "nbformat_minor": 5
}
