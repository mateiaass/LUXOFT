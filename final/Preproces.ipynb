{
 "cells": [
  {
   "cell_type": "code",
   "execution_count": null,
   "id": "448eb55b-2d0b-44e8-b0d9-42f2a544b735",
   "metadata": {},
   "outputs": [],
   "source": [
    "# !pip install kaggle\n",
    "# !pip install kagglehub\n",
    "# import os\n",
    "\n",
    "# # Specifică numele dataset-ului\n",
    "# dataset = \"kingburrito666/shakespeare-plays\"\n",
    "\n",
    "# # Creează un director pentru descărcare\n",
    "# os.makedirs(\"datasets\", exist_ok=True)\n",
    "\n",
    "# # Descarcă folosind comanda kaggle\n",
    "# !kaggle datasets download -d {dataset} -p datasets/ --unzip\n",
    "\n",
    "# print(\"Fișierele au fost descărcate în directorul datasets/\")"
   ]
  },
  {
   "cell_type": "code",
   "execution_count": 7,
   "id": "7a52c3e4-124b-44c4-a2d2-192844c39cb4",
   "metadata": {},
   "outputs": [
    {
     "name": "stdout",
     "output_type": "stream",
     "text": [
      "   Dataline      Play  PlayerLinenumber ActSceneLine         Player  \\\n",
      "0         1  Henry IV               NaN          NaN            NaN   \n",
      "1         2  Henry IV               NaN          NaN            NaN   \n",
      "2         3  Henry IV               NaN          NaN            NaN   \n",
      "3         4  Henry IV               1.0        1.1.1  KING HENRY IV   \n",
      "4         5  Henry IV               1.0        1.1.2  KING HENRY IV   \n",
      "\n",
      "                                          PlayerLine  \n",
      "0                                              ACT I  \n",
      "1                       SCENE I. London. The palace.  \n",
      "2  Enter KING HENRY, LORD JOHN OF LANCASTER, the ...  \n",
      "3             So shaken as we are, so wan with care,  \n",
      "4         Find we a time for frighted peace to pant,  \n"
     ]
    }
   ],
   "source": [
    "import pandas as pd\n",
    "import json\n",
    "\n",
    "file_path = \"datasets/Shakespeare_data.csv\"\n",
    "data = pd.read_csv(file_path)\n",
    "\n",
    "print(data.head())"
   ]
  },
  {
   "cell_type": "code",
   "execution_count": 8,
   "id": "dc80d901-80f2-4909-8b61-c63fc1f4582d",
   "metadata": {},
   "outputs": [
    {
     "name": "stdout",
     "output_type": "stream",
     "text": [
      "   Dataline      Play  PlayerLinenumber ActSceneLine         Player  \\\n",
      "0         1  Henry IV               NaN          NaN            NaN   \n",
      "1         2  Henry IV               NaN          NaN            NaN   \n",
      "2         3  Henry IV               NaN          NaN            NaN   \n",
      "3         4  Henry IV               1.0        1.1.1  KING HENRY IV   \n",
      "4         5  Henry IV               1.0        1.1.2  KING HENRY IV   \n",
      "5         6  Henry IV               1.0        1.1.3  KING HENRY IV   \n",
      "6         7  Henry IV               1.0        1.1.4  KING HENRY IV   \n",
      "7         8  Henry IV               1.0        1.1.5  KING HENRY IV   \n",
      "8         9  Henry IV               1.0        1.1.6  KING HENRY IV   \n",
      "9        10  Henry IV               1.0        1.1.7  KING HENRY IV   \n",
      "\n",
      "                                          PlayerLine  \n",
      "0                                              ACT I  \n",
      "1                       SCENE I. London. The palace.  \n",
      "2  Enter KING HENRY, LORD JOHN OF LANCASTER, the ...  \n",
      "3             So shaken as we are, so wan with care,  \n",
      "4         Find we a time for frighted peace to pant,  \n",
      "5     And breathe short-winded accents of new broils  \n",
      "6            To be commenced in strands afar remote.  \n",
      "7          No more the thirsty entrance of this soil  \n",
      "8  Shall daub her lips with her own children's bl...  \n",
      "9   Nor more shall trenching war channel her fields,  \n"
     ]
    }
   ],
   "source": [
    "print(data.head(10))"
   ]
  },
  {
   "cell_type": "code",
   "execution_count": 29,
   "id": "73a83a5f-7035-4f3b-870e-b697fc96537d",
   "metadata": {},
   "outputs": [
    {
     "name": "stdout",
     "output_type": "stream",
     "text": [
      "                                                text\n",
      "0  [ king henry iv ] so shaken as we are, so wan ...\n",
      "1  [ westmoreland ] my liege, this haste was hot ...\n",
      "2  [ king henry iv ] it seems then that the tidin...\n",
      "3  [ westmoreland ] this match'd with other did, ...\n",
      "4  [ king henry iv ] here is a dear, a true indus...\n",
      "Fișierul 'merged_shakespeare_lines.csv' a fost salvat!\n"
     ]
    }
   ],
   "source": [
    "if \"Player\" in data.columns and \"PlayerLine\" in data.columns:\n",
    "    merged_lines = []\n",
    "\n",
    "    current_player = None\n",
    "    current_line = \"\"\n",
    "    \n",
    "    for index, row in data.iterrows():\n",
    "        line = row[\"PlayerLine\"]\n",
    "        player = row[\"Player\"]\n",
    "        \n",
    "        if pd.isna(line) or pd.isna(player):\n",
    "            continue;\n",
    "            \n",
    "        if player == current_player:\n",
    "            current_line += \" \" + line.strip()\n",
    "        else:\n",
    "            if current_player is not None:\n",
    "                merged_lines.append({\"text\": \"[ \" + current_player.lower() + \" ]\" + \" \" + current_line.lower()})#, \"PlayerLine\": current_line})\n",
    "               \n",
    "            current_player = player\n",
    "            current_line = line.strip()\n",
    "\n",
    "    if current_player is not None:\n",
    "        merged_lines.append({\"text\": \"[ \" + current_player.lower() + \" ]\" + \" \" + current_line.lower()})\n",
    "\n",
    "    merged_data = pd.DataFrame(merged_lines)\n",
    "    print(merged_data.head())\n",
    "    merged_data.to_csv(\"merged_shakespeare_lines.csv\", index=False)\n",
    "    print(\"Fișierul 'merged_shakespeare_lines.csv' a fost salvat!\")"
   ]
  },
  {
   "cell_type": "code",
   "execution_count": 30,
   "id": "c042c897-2a60-48e2-817c-faf115579e5f",
   "metadata": {},
   "outputs": [
    {
     "name": "stdout",
     "output_type": "stream",
     "text": [
      "                                                text\n",
      "0  [ king henry iv ] so shaken as we are, so wan ...\n",
      "1  [ king henry iv ] find we a time for frighted ...\n",
      "2  [ king henry iv ] and breathe short-winded acc...\n",
      "3  [ king henry iv ] to be commenced in strands a...\n",
      "4  [ king henry iv ] no more the thirsty entrance...\n",
      "Fișierul 'merged_shakespeare_original.csv' a fost salvat!\n"
     ]
    }
   ],
   "source": [
    "if \"Player\" in data.columns and \"PlayerLine\" in data.columns:\n",
    "    merged_lines = []\n",
    "\n",
    "    current_player = None\n",
    "    current_line = \"\"\n",
    "    \n",
    "    for index, row in data.iterrows():\n",
    "        line = row[\"PlayerLine\"]\n",
    "        player = row[\"Player\"]\n",
    "        \n",
    "        if pd.isna(line) or pd.isna(player):\n",
    "            continue;\n",
    "\n",
    "        merged_lines.append({\"text\": \"[ \" + player.strip().lower() + \" ]\" + \" \" + line.strip().lower()})#, \"PlayerLine\": current_line})\n",
    "\n",
    "    merged_data = pd.DataFrame(merged_lines)\n",
    "    print(merged_data.head())\n",
    "    merged_data.to_csv(\"merged_shakespeare_original.csv\", index=False)\n",
    "    print(\"Fișierul 'merged_shakespeare_original.csv' a fost salvat!\")"
   ]
  }
 ],
 "metadata": {
  "kernelspec": {
   "display_name": "Python 3 (ipykernel)",
   "language": "python",
   "name": "python3"
  },
  "language_info": {
   "codemirror_mode": {
    "name": "ipython",
    "version": 3
   },
   "file_extension": ".py",
   "mimetype": "text/x-python",
   "name": "python",
   "nbconvert_exporter": "python",
   "pygments_lexer": "ipython3",
   "version": "3.12.2"
  }
 },
 "nbformat": 4,
 "nbformat_minor": 5
}
